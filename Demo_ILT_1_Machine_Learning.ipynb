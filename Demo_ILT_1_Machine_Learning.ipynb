{
  "nbformat": 4,
  "nbformat_minor": 0,
  "metadata": {
    "colab": {
      "provenance": [],
      "include_colab_link": true
    },
    "kernelspec": {
      "name": "python3",
      "display_name": "Python 3"
    },
    "language_info": {
      "name": "python"
    }
  },
  "cells": [
    {
      "cell_type": "markdown",
      "metadata": {
        "id": "view-in-github",
        "colab_type": "text"
      },
      "source": [
        "<a href=\"https://colab.research.google.com/github/wiliantogan23/demo-ilt-2-ml/blob/main/Demo_ILT_1_Machine_Learning.ipynb\" target=\"_parent\"><img src=\"https://colab.research.google.com/assets/colab-badge.svg\" alt=\"Open In Colab\"/></a>"
      ]
    },
    {
      "cell_type": "markdown",
      "source": [
        "# Introduction to  Python\n"
      ],
      "metadata": {
        "id": "ApHE4w8GU_ep"
      }
    },
    {
      "cell_type": "markdown",
      "source": [
        "## Hello World in Python"
      ],
      "metadata": {
        "id": "vHzt87DYXZMq"
      }
    },
    {
      "cell_type": "markdown",
      "source": [
        "**What is Python?**\n",
        "\n",
        "Python is a dynamic, interpreted (bytecode-compiled) language. \n",
        "\n",
        "**Why programming with Python?**\n",
        "* Easy syntax\n",
        "* Most chosen language for IT\n",
        "* Omnipresent\n",
        "\n"
      ],
      "metadata": {
        "id": "lqot9q8IYTjE"
      }
    },
    {
      "cell_type": "code",
      "source": [
        "! python --version"
      ],
      "metadata": {
        "colab": {
          "base_uri": "https://localhost:8080/"
        },
        "id": "h2TaBzGjXfrn",
        "outputId": "7c28537f-2934-40a8-e688-f80b31e40a30"
      },
      "execution_count": null,
      "outputs": [
        {
          "output_type": "stream",
          "name": "stdout",
          "text": [
            "Python 3.7.12\n"
          ]
        }
      ]
    },
    {
      "cell_type": "code",
      "execution_count": null,
      "metadata": {
        "colab": {
          "base_uri": "https://localhost:8080/"
        },
        "id": "JCHI9CDAUPnk",
        "outputId": "e97b4f32-cf00-4330-90c8-9cf83f8f1916"
      },
      "outputs": [
        {
          "output_type": "stream",
          "name": "stdout",
          "text": [
            "hello, bangkit!\n"
          ]
        }
      ],
      "source": [
        "print('hello, bangkit!')"
      ]
    },
    {
      "cell_type": "markdown",
      "source": [
        "## Basic Python Syntax"
      ],
      "metadata": {
        "id": "388VwBZmYPs0"
      }
    },
    {
      "cell_type": "markdown",
      "source": [
        "### Data Types\n",
        "\n",
        "* **String** (str): text.\n",
        "* **Integer** (int): numbers, without fraction.\n",
        "* **Float**: numbers with fraction.\n",
        "* **Boolean** (bool): data type which only has 2 values\n",
        "\n",
        "We can convert from one data type to others by committing to implicit conversion or defining an explicit conversion.\n"
      ],
      "metadata": {
        "id": "hRw-NPjcZVVe"
      }
    },
    {
      "cell_type": "markdown",
      "source": [
        "### Variables\n",
        "* Name to certain values\n",
        "* The values can be any data type\n",
        "* The process of storing a value inside a variable is called an assignment.\n",
        "* Can only be made up of letters, numbers, and underscore. \n",
        "* Can’t be Python reserved keywords."
      ],
      "metadata": {
        "id": "M_oidvqRbwPX"
      }
    },
    {
      "cell_type": "code",
      "source": [
        "# String (str)\n",
        "color = \"red\"\n",
        "print(type(color))"
      ],
      "metadata": {
        "colab": {
          "base_uri": "https://localhost:8080/"
        },
        "id": "pd6sULeYYFVm",
        "outputId": "e2819c00-5bbe-4aa8-c5c6-025a55790726"
      },
      "execution_count": null,
      "outputs": [
        {
          "output_type": "stream",
          "name": "stdout",
          "text": [
            "<class 'str'>\n"
          ]
        }
      ]
    },
    {
      "cell_type": "code",
      "source": [
        "# Integer (int)\n",
        "length = 10\n",
        "print(type(length))"
      ],
      "metadata": {
        "colab": {
          "base_uri": "https://localhost:8080/"
        },
        "id": "dnWjuU5VayEf",
        "outputId": "ae926091-d8f5-4d2d-b105-a8b60a72e032"
      },
      "execution_count": null,
      "outputs": [
        {
          "output_type": "stream",
          "name": "stdout",
          "text": [
            "<class 'int'>\n"
          ]
        }
      ]
    },
    {
      "cell_type": "code",
      "source": [
        "# Float\n",
        "width = 2.0\n",
        "print(type(width))"
      ],
      "metadata": {
        "colab": {
          "base_uri": "https://localhost:8080/"
        },
        "id": "5m38VmsTbCk0",
        "outputId": "5fbbbce7-75b2-4296-8ae0-7b97f87fbc27"
      },
      "execution_count": null,
      "outputs": [
        {
          "output_type": "stream",
          "name": "stdout",
          "text": [
            "<class 'float'>\n"
          ]
        }
      ]
    },
    {
      "cell_type": "code",
      "source": [
        "print(type(int(width)))"
      ],
      "metadata": {
        "colab": {
          "base_uri": "https://localhost:8080/"
        },
        "id": "b3mU-O3CbOCG",
        "outputId": "085ff5c5-9f69-4fd9-e517-d899c7400a3f"
      },
      "execution_count": null,
      "outputs": [
        {
          "output_type": "stream",
          "name": "stdout",
          "text": [
            "<class 'int'>\n"
          ]
        }
      ]
    },
    {
      "cell_type": "markdown",
      "source": [
        "**Don't Do This**"
      ],
      "metadata": {
        "id": "K3E-I51FcUmB"
      }
    },
    {
      "cell_type": "code",
      "source": [
        "def = ‘Function’\n",
        "class = ‘Class’\n",
        "print(and)\n",
        "print(or)"
      ],
      "metadata": {
        "id": "dGftZ9LabgwV"
      },
      "execution_count": null,
      "outputs": []
    },
    {
      "cell_type": "markdown",
      "source": [
        "### Functions\n",
        "* Define function with def keyword.\n",
        "* Function has body, written as a block after colon in function definition. The block has indented to the right.\n",
        "* To get value from a function use the return keyword.\n"
      ],
      "metadata": {
        "id": "XyqGDWKNce5N"
      }
    },
    {
      "cell_type": "code",
      "source": [
        "def greeting(name):\n",
        "  return 'Hello, ' + name\n",
        "\n",
        "print(greeting(\"Bangkit 2022\"))"
      ],
      "metadata": {
        "colab": {
          "base_uri": "https://localhost:8080/"
        },
        "id": "-xDdDieMcaEv",
        "outputId": "8d22ee83-8856-4fee-aec8-91e2ec715838"
      },
      "execution_count": null,
      "outputs": [
        {
          "output_type": "stream",
          "name": "stdout",
          "text": [
            "Hello, Bangkit 2022\n"
          ]
        }
      ]
    },
    {
      "cell_type": "markdown",
      "source": [
        "### Comparison\n",
        "* Boolean (bool) data type represents one of two possible states, either True or False.\n",
        "* Not all data types can be compared, so be aware to compare two different data types.\n",
        "* Comparison operator not only checking equality and less/more it also includes logical operator: and, or, not.\n"
      ],
      "metadata": {
        "id": "xYCEhaOlfbK0"
      }
    },
    {
      "cell_type": "code",
      "source": [
        "print(1 < 10)\n",
        "\n",
        "print(\"Linux\" == \"Windows\")\n",
        "\n",
        "print(1 != \"1\")\n",
        "\n",
        "print(not True)\n"
      ],
      "metadata": {
        "colab": {
          "base_uri": "https://localhost:8080/"
        },
        "id": "E5dQxPXMfnLZ",
        "outputId": "e00ef69d-7ad0-4c80-e24a-c621be124168"
      },
      "execution_count": null,
      "outputs": [
        {
          "output_type": "stream",
          "name": "stdout",
          "text": [
            "True\n",
            "False\n",
            "True\n",
            "False\n"
          ]
        }
      ]
    },
    {
      "cell_type": "markdown",
      "source": [
        "* Comparison operators\n",
        "  * a == b: a is equal to b\n",
        "  * a != b: a is different than b\n",
        "  * a < b: a is smaller than b\n",
        "  * a <= b: a is smaller or equal to b\n",
        "  * a > b: a is bigger than b\n",
        "  * a >= b: a is bigger or equal to b\n",
        "\n",
        "* Logical operators\n",
        "  * a and b: True if both a and b are True. False otherwise.\n",
        "  * a or b: True if either a or b or both are True. False if both are False.\n",
        "  * not a: True if a is False, False if a is True.\n"
      ],
      "metadata": {
        "id": "x79WDe4vf4Ve"
      }
    },
    {
      "cell_type": "markdown",
      "source": [
        "### Conditional & If Statements\n",
        "* The ability of a program to alter its execution sequence is called branching.\n",
        "* The if block will be executed only if the condition is True.\n",
        "* Use elif & else statement to handle multiple conditions. "
      ],
      "metadata": {
        "id": "DM6lel6hc_QH"
      }
    },
    {
      "cell_type": "code",
      "source": [
        "hour = 10\n",
        "if hour < 12:\n",
        "  print(\"Good morning!\")"
      ],
      "metadata": {
        "colab": {
          "base_uri": "https://localhost:8080/"
        },
        "id": "IwHO0YxSc2Hf",
        "outputId": "f8f1623f-6ea5-4ee1-f8fc-8b3b0c49e3e7"
      },
      "execution_count": null,
      "outputs": [
        {
          "output_type": "stream",
          "name": "stdout",
          "text": [
            "Good morning!\n"
          ]
        }
      ]
    },
    {
      "cell_type": "code",
      "source": [
        "def check(number):\n",
        "    if number > 0:\n",
        "        return \"Positive\"\n",
        "    elif number == 0:\n",
        "        return \"Zero\"\n",
        "    else: \n",
        "        return \"Negative\"\n",
        "\n",
        "print(check(10))"
      ],
      "metadata": {
        "colab": {
          "base_uri": "https://localhost:8080/"
        },
        "id": "ycVxi8cEdTyt",
        "outputId": "654bc4c6-72f9-4a7b-8ee8-a07e3bc9a895"
      },
      "execution_count": null,
      "outputs": [
        {
          "output_type": "stream",
          "name": "stdout",
          "text": [
            "Positive\n"
          ]
        }
      ]
    },
    {
      "cell_type": "markdown",
      "source": [
        "### Loops\n",
        "\n",
        "**while** loop instruct computer to continuously execute code based on the value of a condition.\n",
        "\n",
        "\n"
      ],
      "metadata": {
        "id": "EBeW3s6kgevL"
      }
    },
    {
      "cell_type": "code",
      "source": [
        "x = 7  # also try with x = 0\n",
        "\n",
        "while x > 0:\n",
        "  print(\"positive x=\" + str(x))\n",
        "  x = x - 1\n",
        "  print(\"now x=\" + str(x))\n"
      ],
      "metadata": {
        "colab": {
          "base_uri": "https://localhost:8080/"
        },
        "id": "ZKXR6gZGfRI_",
        "outputId": "16c58700-c1d2-450c-b75c-1c9ec29920e0"
      },
      "execution_count": null,
      "outputs": [
        {
          "output_type": "stream",
          "name": "stdout",
          "text": [
            "positive x=7\n",
            "now x=6\n",
            "positive x=6\n",
            "now x=5\n",
            "positive x=5\n",
            "now x=4\n",
            "positive x=4\n",
            "now x=3\n",
            "positive x=3\n",
            "now x=2\n",
            "positive x=2\n",
            "now x=1\n",
            "positive x=1\n",
            "now x=0\n"
          ]
        }
      ]
    },
    {
      "cell_type": "markdown",
      "source": [
        "\n",
        "**for** loop iterates over a sequence of values."
      ],
      "metadata": {
        "id": "mBicYfLNgqBU"
      }
    },
    {
      "cell_type": "code",
      "source": [
        "for x in range(3):\n",
        "  print(\"x=\" + str(x))"
      ],
      "metadata": {
        "colab": {
          "base_uri": "https://localhost:8080/"
        },
        "id": "ItDfsx5-grSM",
        "outputId": "4c8c3c0f-7895-46b4-e867-8947e93f8d85"
      },
      "execution_count": null,
      "outputs": [
        {
          "output_type": "stream",
          "name": "stdout",
          "text": [
            "x=0\n",
            "x=1\n",
            "x=2\n"
          ]
        }
      ]
    },
    {
      "cell_type": "markdown",
      "source": [
        "Both while and for loops can be interrupted using the **break** keyword. \n",
        "\n"
      ],
      "metadata": {
        "id": "Nr8XRQx6hMYI"
      }
    },
    {
      "cell_type": "code",
      "source": [
        "for x in range(3):\n",
        "    print(\"x=\" + str(x))\n",
        "    if x == 1:\n",
        "        break  # quit from loop\n"
      ],
      "metadata": {
        "colab": {
          "base_uri": "https://localhost:8080/"
        },
        "id": "vt5AIOQtg5wd",
        "outputId": "460ed311-78dd-48c5-8bc7-15d8e1cfa83b"
      },
      "execution_count": null,
      "outputs": [
        {
          "output_type": "stream",
          "name": "stdout",
          "text": [
            "x=0\n",
            "x=1\n"
          ]
        }
      ]
    },
    {
      "cell_type": "markdown",
      "source": [
        "Use the **continue** keyword to skip the current iteration and continue with the next one."
      ],
      "metadata": {
        "id": "LAdX1_e6hU2x"
      }
    },
    {
      "cell_type": "code",
      "source": [
        "for x in range(3, 0, -1):\n",
        "    if x % 2 == 0:\n",
        "        continue  # skip even\n",
        "    print(x)\n"
      ],
      "metadata": {
        "colab": {
          "base_uri": "https://localhost:8080/"
        },
        "id": "KWEYYL7AhO4t",
        "outputId": "0259641d-7616-4d2e-ffc5-febbcf4f6a43"
      },
      "execution_count": null,
      "outputs": [
        {
          "output_type": "stream",
          "name": "stdout",
          "text": [
            "3\n",
            "1\n"
          ]
        }
      ]
    },
    {
      "cell_type": "markdown",
      "source": [
        "## Python Data Structure\n"
      ],
      "metadata": {
        "id": "QkwBAt7HhsIU"
      }
    },
    {
      "cell_type": "markdown",
      "source": [
        "### Strings\n",
        "\n",
        "* **Represent a piece of text**.\n",
        "\n",
        "String is a data type in Python employed to represent a piece of text. It’s written between quotes, either single quotes, double quotes, or triple quotes. Escape character using backslash (\\).\n",
        "\n",
        "String can be as short as zero characters (empty string) or significantly long. String concatenation using plus sign (+). The **len** function tells the number of characters contained in the string.\n"
      ],
      "metadata": {
        "id": "2A_xK5CkiPcx"
      }
    },
    {
      "cell_type": "code",
      "source": [
        "program_name = 'bangkit'\n",
        "program_year = \"it's the 2nd\"\n",
        "multi_line = \"\"\"hello,\n",
        "email test.\n",
        "signature.\"\"\"\n",
        "  \n",
        "# let's\n",
        "# \"bangkit\"\n",
        "print(\"let's\\n\\\"\"+program_name+\"\\\"\")\n",
        "\n",
        "\n",
        "print(len(''))  # 0\n",
        "print(len(program_name)==7)  # True\n"
      ],
      "metadata": {
        "colab": {
          "base_uri": "https://localhost:8080/"
        },
        "id": "cZFRNf77i91s",
        "outputId": "17268f6e-d7fd-47bb-b34e-7b030c8bda3c"
      },
      "execution_count": null,
      "outputs": [
        {
          "output_type": "stream",
          "name": "stdout",
          "text": [
            "let's\n",
            "\"bangkit\"\n",
            "0\n",
            "True\n"
          ]
        }
      ]
    },
    {
      "cell_type": "markdown",
      "source": [
        "* **To access substring, use index or slicing**.\n",
        "\n",
        "Python starts counting indexes from 0 not 1. Access index greater than its length - 1, triggers index out of range. Negative indexes starts from behind.\n",
        "\n",
        "To access substring, use slicing, similar to index, with range using a colon as a separator, starts from first number, up to 1 less than last.\n",
        "\n",
        "Slicing with one of two indexes means the other index is either 0 for the first value or its length for the second value.\n"
      ],
      "metadata": {
        "id": "A0vx0h5Yi-oc"
      }
    },
    {
      "cell_type": "code",
      "source": [
        "name = 'bangkit'\n",
        "print(name[1])  # a\n",
        "print(name[len(name)-1])  # t\n",
        "print(name[-1])  # t\n",
        "print(name[-2])  # i\n",
        "  \n",
        "print(name[4:len(name)-1])  # ki\n",
        "  \n",
        "print(name[:4])  # bang (0-3)\n",
        "print(name[4:])  # kit  (4-len)"
      ],
      "metadata": {
        "colab": {
          "base_uri": "https://localhost:8080/"
        },
        "id": "CWK5PbZMhP-E",
        "outputId": "e10826f5-fdaf-443f-add9-47e9d65397c8"
      },
      "execution_count": null,
      "outputs": [
        {
          "output_type": "stream",
          "name": "stdout",
          "text": [
            "a\n",
            "t\n",
            "t\n",
            "i\n",
            "ki\n",
            "bang\n",
            "kit\n"
          ]
        }
      ]
    },
    {
      "cell_type": "markdown",
      "source": [
        "* **Strings in Python are immutable**\n",
        "\n",
        "Strings in Python are immutable, meaning they can't be modified, can’t change individual characters. It'll trigger TypeError object does not support item assignment.\n",
        "\n",
        "To change string, replace it with the new string.\n",
        "\n",
        "Use in keyword to check if substring is a part of the string."
      ],
      "metadata": {
        "id": "oM--5287iyJO"
      }
    },
    {
      "cell_type": "code",
      "source": [
        "year = \"it's 2021\"\n",
        "year[-1] = \"0\"  # TypeError"
      ],
      "metadata": {
        "colab": {
          "base_uri": "https://localhost:8080/",
          "height": 183
        },
        "id": "GKVOcTT9ijAi",
        "outputId": "27aaba90-e5e2-42a7-903f-e09535427c1b"
      },
      "execution_count": null,
      "outputs": [
        {
          "output_type": "error",
          "ename": "TypeError",
          "evalue": "ignored",
          "traceback": [
            "\u001b[0;31m---------------------------------------------------------------------------\u001b[0m",
            "\u001b[0;31mTypeError\u001b[0m                                 Traceback (most recent call last)",
            "\u001b[0;32m<ipython-input-26-140468fc7539>\u001b[0m in \u001b[0;36m<module>\u001b[0;34m()\u001b[0m\n\u001b[1;32m      1\u001b[0m \u001b[0myear\u001b[0m \u001b[0;34m=\u001b[0m \u001b[0;34m\"it's 2021\"\u001b[0m\u001b[0;34m\u001b[0m\u001b[0;34m\u001b[0m\u001b[0m\n\u001b[0;32m----> 2\u001b[0;31m \u001b[0myear\u001b[0m\u001b[0;34m[\u001b[0m\u001b[0;34m-\u001b[0m\u001b[0;36m1\u001b[0m\u001b[0;34m]\u001b[0m \u001b[0;34m=\u001b[0m \u001b[0;34m\"0\"\u001b[0m  \u001b[0;31m# TypeError\u001b[0m\u001b[0;34m\u001b[0m\u001b[0;34m\u001b[0m\u001b[0m\n\u001b[0m",
            "\u001b[0;31mTypeError\u001b[0m: 'str' object does not support item assignment"
          ]
        }
      ]
    },
    {
      "cell_type": "markdown",
      "source": [
        "* **Provide a bunch of methods for working with text**\n",
        "\n",
        "String class provide a bunch of methods for working with text. Not only related to text modification, there's also many of text checking method.\n",
        "\n",
        "Remember, the goal is not for memorize all of the methods, just check the documentation or search on the web anytime."
      ],
      "metadata": {
        "id": "vW6HqPvQi0MU"
      }
    },
    {
      "cell_type": "code",
      "source": [
        "program = 'bangkit 2021'\n",
        "print(program.index('g'))  # 3\n",
        "\n",
        "print(program.upper())  # BANGKIT 2021\n",
        "print(program.endswith('2021'))  # True\n",
        "print(program.replace('2021', '2020'))\n",
        "\n",
        "year = 2021  # integer 2021\n",
        "print(str(year).isnumeric())  # True\n",
        "# bangkit for 2021\n",
        "print(\"{} for {}\".format(\"bangkit\", year))\n"
      ],
      "metadata": {
        "colab": {
          "base_uri": "https://localhost:8080/"
        },
        "id": "mOoxsQWHhqrM",
        "outputId": "1297d10d-f92d-4ab2-9263-13bf10d705a7"
      },
      "execution_count": null,
      "outputs": [
        {
          "output_type": "stream",
          "name": "stdout",
          "text": [
            "3\n",
            "BANGKIT 2021\n",
            "True\n",
            "bangkit 2020\n",
            "True\n",
            "bangkit for 2021\n"
          ]
        }
      ]
    },
    {
      "cell_type": "markdown",
      "source": [
        "### List\n",
        "Think of list as container with space inside divided up into different slots. Each slot can contain a different value.\n",
        "\n",
        "Python use square brackets [] to indicate where the list starts and ends. list indexes starts from 0, just like string, also slicing to return another list.\n",
        "\n"
      ],
      "metadata": {
        "id": "22aFhqCfpJZY"
      }
    },
    {
      "cell_type": "code",
      "source": [
        "program_year = [2020, 2021]\n",
        "\n",
        "print(type(program_year))    # list\n",
        "print(program_year)\n",
        "print(len(program_year))     # 2\n",
        "print(2019 in program_year)  # False\n",
        "\n",
        "print(program_year[0])       # 2020\n",
        "print(program_year[:1])     # [2020]\n",
        "\n",
        "for year in program_year:\n",
        "    print(year)  # element per line\n"
      ],
      "metadata": {
        "colab": {
          "base_uri": "https://localhost:8080/"
        },
        "id": "qVKkXwBbimF1",
        "outputId": "7238d93e-769d-438c-dda0-4c68c00fc415"
      },
      "execution_count": null,
      "outputs": [
        {
          "output_type": "stream",
          "name": "stdout",
          "text": [
            "<class 'list'>\n",
            "[2020, 2021]\n",
            "2\n",
            "False\n",
            "2020\n",
            "[2020]\n",
            "2020\n",
            "2021\n"
          ]
        }
      ]
    },
    {
      "cell_type": "markdown",
      "source": [
        "If strings are immutable, lists are mutable, means able to add, remove, or modify elements in a list.\n",
        "\n",
        "Use append to add to last element. To add on specific index, use insert. To delete element, use remove with element or pop with index.\n",
        "\n",
        "For element modification, change directly to the specific index.\n",
        "\n"
      ],
      "metadata": {
        "id": "DSV5WUSdpqaN"
      }
    },
    {
      "cell_type": "code",
      "source": [
        "paths = ['ML', 'Cloud']\n",
        "paths.append('Android')\n",
        "print(len(paths))  # 3\n",
        "paths.remove('Android')\n",
        "paths.insert(1, 'Mobile')\n",
        "\n",
        "# ['ML', 'Mobile', 'Cloud']\n",
        "print(paths)\n",
        "paths.append('Python')\n",
        "paths.pop(-1)  # remove 'Python'\n",
        "\n",
        "# change 'ML' to 'Machine Learning'\n",
        "paths[0] = 'Machine Learning'\n"
      ],
      "metadata": {
        "colab": {
          "base_uri": "https://localhost:8080/"
        },
        "id": "APtq9qGGpo-G",
        "outputId": "ae4ce783-b3d7-4661-c1df-2edd228aea9e"
      },
      "execution_count": null,
      "outputs": [
        {
          "output_type": "stream",
          "name": "stdout",
          "text": [
            "3\n",
            "['ML', 'Mobile', 'Cloud']\n"
          ]
        }
      ]
    },
    {
      "cell_type": "markdown",
      "source": [
        "We can create a new list from a sequence or a range in single line using list comprehensions.\n",
        "\n",
        "List comprehensions can be really powerful, but can also be utterly complex, resulting to codes that are hard to read.\n"
      ],
      "metadata": {
        "id": "l8T_Z2JqpzJr"
      }
    },
    {
      "cell_type": "code",
      "source": [
        "even = [x*2 for x in range(1,5)]\n",
        "print(even)  # [2, 4, 6, 8]\n",
        "\n",
        "tens = [x for x in range(50) if x % 10 == 0]\n",
        "print(tens)  # [0, 10, 20, 30, 40]"
      ],
      "metadata": {
        "colab": {
          "base_uri": "https://localhost:8080/"
        },
        "id": "F-x8LfZApd4M",
        "outputId": "85a2f5f9-c531-4524-96ef-bb1a29bccec7"
      },
      "execution_count": null,
      "outputs": [
        {
          "output_type": "stream",
          "name": "stdout",
          "text": [
            "[2, 4, 6, 8]\n",
            "[0, 10, 20, 30, 40]\n"
          ]
        }
      ]
    },
    {
      "cell_type": "markdown",
      "source": [
        "### Tuples\n",
        "Tuples are like lists. They can contain elements of any data type. But, unlike lists, tuples are immutable.\n",
        "\n",
        "Python using parentheses () to indicate where the tuple starts and ends.\n",
        "\n",
        "Good example of tuple is when a function returns multiple values.\n",
        "\n",
        "Strings, Lists, and Tuples are included as sequence types.\n",
        "\n"
      ],
      "metadata": {
        "id": "xEP2xasmqVia"
      }
    },
    {
      "cell_type": "code",
      "source": [
        "def get_stat(numbers):\n",
        "  total = sum(numbers)\n",
        "  length = len(numbers)\n",
        "  mean = total / length\n",
        "  return length, total, mean\n",
        "\n",
        "stat = get_stat([1, 3, 5, 7])\n",
        "print(stat)  # (4, 16, 4.0)\n",
        "print(type(stat))  # tuple\n",
        "\n",
        "for data in stat:\n",
        "    print(data)  # element per line\n"
      ],
      "metadata": {
        "colab": {
          "base_uri": "https://localhost:8080/"
        },
        "id": "hkcAx9Uvp7UT",
        "outputId": "7c71e04d-a117-4ec3-ede2-12bb8c9a5a02"
      },
      "execution_count": null,
      "outputs": [
        {
          "output_type": "stream",
          "name": "stdout",
          "text": [
            "(4, 16, 4.0)\n",
            "<class 'tuple'>\n",
            "4\n",
            "16\n",
            "4.0\n"
          ]
        }
      ]
    },
    {
      "cell_type": "markdown",
      "source": [
        "### Dictionaries\n",
        "Like lists, dictionaries are used to organize elements into collections. Unlike lists, not accessing elements inside dictionaries using position.\n",
        "\n",
        "Data inside dictionaries take the form of **pairs of keys and values**. To get a dictionary value, use its corresponding key.\n",
        "\n",
        "Not like list index must be a number, type of key in dictionary use strings, integers, tuples & more.\n",
        "dictionary use curly brackets {}.\n",
        "\n"
      ],
      "metadata": {
        "id": "VyUHUCubquWv"
      }
    },
    {
      "cell_type": "code",
      "source": [
        "students = {\n",
        "    'ml': 500,\n",
        "    'mobile': 700,\n",
        "    'cloud': 900\n",
        "}\n",
        "print(type(students))     # dict\n",
        "print(students['cloud'])  # 900\n",
        "\n",
        "# keys: ['ml', 'mobile', 'cloud']\n",
        "for key in students.keys():\n",
        "    # eg: ml:500\n",
        "    print(key + ': '+ str(students[key]))\n"
      ],
      "metadata": {
        "colab": {
          "base_uri": "https://localhost:8080/"
        },
        "id": "uNCwOcZkqdrs",
        "outputId": "0b01ca38-59c4-47b8-f596-546718ca24f4"
      },
      "execution_count": null,
      "outputs": [
        {
          "output_type": "stream",
          "name": "stdout",
          "text": [
            "<class 'dict'>\n",
            "900\n",
            "ml: 500\n",
            "mobile: 700\n",
            "cloud: 900\n"
          ]
        }
      ]
    },
    {
      "cell_type": "markdown",
      "source": [
        "Use for loops to iterate through the contents of dictionary (implicitly over keys).\n",
        "\n",
        "To get both key and value as tuple at the same time, use items.\n",
        "\n",
        "Other than using keys to get all keys, use values to get all dictionary values.\n",
        "\n"
      ],
      "metadata": {
        "id": "4hIPmXQtsdBk"
      }
    },
    {
      "cell_type": "code",
      "source": [
        "file_counts = {\"jpg\": 10,\n",
        "               \"txt\": 14,\n",
        "               \"csv\": 2,\n",
        "               \"py\": 23}\n",
        "for extension in file_counts:\n",
        "    print(extension)  # eg: jpg\n",
        "\n",
        "\n",
        "for ext, amount in file_counts.items():\n",
        "    print('{} files .{}'\n",
        "          .format(amount, ext))\n"
      ],
      "metadata": {
        "colab": {
          "base_uri": "https://localhost:8080/"
        },
        "id": "4WNUwL3AscOs",
        "outputId": "6345af5c-d553-40ad-af7b-edf3fa041237"
      },
      "execution_count": null,
      "outputs": [
        {
          "output_type": "stream",
          "name": "stdout",
          "text": [
            "jpg\n",
            "txt\n",
            "csv\n",
            "py\n",
            "10 files .jpg\n",
            "14 files .txt\n",
            "2 files .csv\n",
            "23 files .py\n"
          ]
        }
      ]
    },
    {
      "cell_type": "markdown",
      "source": [
        "Just like lists, dictionaries are mutable, means able to add, remove, or modify elements in a dictionary.\n",
        "\n",
        "Set new value using associated key. Add item (pairs of key & value) by set new key with new value. Delete item with del keyword or delete all items using clear.\n",
        "\n",
        "Use dictionary over list if aims to access data via its key instead of iterate to find the key.\n"
      ],
      "metadata": {
        "id": "kSk-8dggssPz"
      }
    },
    {
      "cell_type": "code",
      "source": [
        "# point in line y = 2x + 1\n",
        "point_a = {'x': 2, 'y': 5}\n",
        "point_a['x'] = 3\n",
        "point_a['y'] = 7\n",
        "\n",
        "\n",
        "new_point = {}  # empty dictionary\n",
        "new_point['z'] = 2\n",
        "print(len(new_point.keys()))  # 1\n",
        "del new_point['z']  # remove item\n",
        "print(new_point)    # {}\n",
        "\n",
        "\n",
        "new_point = {'x': 0, 'y': 1}\n",
        "new_point.clear()\n",
        "print(new_point)    # {}\n"
      ],
      "metadata": {
        "colab": {
          "base_uri": "https://localhost:8080/"
        },
        "id": "xuKXlcZWsrup",
        "outputId": "a2f70e9c-ba08-4b7e-ba76-380e8c2a887a"
      },
      "execution_count": null,
      "outputs": [
        {
          "output_type": "stream",
          "name": "stdout",
          "text": [
            "1\n",
            "{}\n",
            "{}\n"
          ]
        }
      ]
    },
    {
      "cell_type": "markdown",
      "source": [
        "## Regular Expressions (Regex)\n",
        "\n",
        "A regular expression, also known as regex or regexp, is essentially a search query for text that’s expressed by string pattern.\n",
        "\n",
        "There are multiple different ways through which we can apply regular expressions, a whole wide range of programming languages, includes Python. Also command line tools that know how to apply regexes, like grep, sed or awk. The implementation may vary, but the principles remain the same.\n",
        "\n"
      ],
      "metadata": {
        "id": "Ix5rz1cgr-gu"
      }
    },
    {
      "cell_type": "markdown",
      "source": [
        "* Regular expressions in Python uses raw string (r\"\"). It means that interpreter shouldn't try to interpret any special characters. Just pass the string to the function as is.\n",
        "* The Match object includes information like position in the string that matched and the actual matching string.\n",
        "\n",
        "\n"
      ],
      "metadata": {
        "id": "6zcosPuwsM79"
      }
    },
    {
      "cell_type": "code",
      "source": [
        "import re\n",
        "\n",
        "\n",
        "result = re.search(r\"aza\", \"plaza\")\n",
        "print(result)\n",
        "# <re.Match object; span=(2, 5), match='aza'>\n",
        "print(re.search(r\"aza\", \"maze\"))\n",
        "# None"
      ],
      "metadata": {
        "colab": {
          "base_uri": "https://localhost:8080/"
        },
        "id": "nOAHvuvvuV5R",
        "outputId": "0546dcd2-4b6c-4a46-a459-7d01bdd92694"
      },
      "execution_count": null,
      "outputs": [
        {
          "output_type": "stream",
          "name": "stdout",
          "text": [
            "<re.Match object; span=(2, 5), match='aza'>\n",
            "None\n"
          ]
        }
      ]
    },
    {
      "cell_type": "markdown",
      "source": [
        "* Circumflex (^) pattern matches the beginning of the line. Dot (.) matches any character. Option re.IGNORECASE to match insensitive case."
      ],
      "metadata": {
        "id": "3aL1F5a7uZDL"
      }
    },
    {
      "cell_type": "code",
      "source": [
        "print(re.search(r\"^x\", \"xenon\"))\n",
        "# <re.Match object; span=(0, 1), match='x'>\n",
        "\n",
        "print(re.search(r\"p.ng\", \"sponge\"))\n",
        "# <re.Match object; span=(1, 5), match='pong'>\n"
      ],
      "metadata": {
        "colab": {
          "base_uri": "https://localhost:8080/"
        },
        "id": "CJn7iAFpsLjh",
        "outputId": "27d8e6b9-21c7-4a2c-e167-23b904599fff"
      },
      "execution_count": null,
      "outputs": [
        {
          "output_type": "stream",
          "name": "stdout",
          "text": [
            "<re.Match object; span=(0, 1), match='x'>\n",
            "<re.Match object; span=(1, 5), match='pong'>\n"
          ]
        }
      ]
    },
    {
      "cell_type": "markdown",
      "source": [
        "* To matched a range of characters, use another feature of regexes called character classes ([ ]).\n"
      ],
      "metadata": {
        "id": "mhL2gjujxQ17"
      }
    },
    {
      "cell_type": "code",
      "source": [
        "print(re.search(r\"cloud[a-zA-Z0-9]\", \"cloud9\"))\n",
        "# <re.Match object; span=(0, 6), match='cloud9'>\n",
        "\n",
        "print(re.search(r\"[^a-zA-Z]\", \"This is a sentence.\"))\n",
        "# <re.Match object; span=(4, 5), match=' '>"
      ],
      "metadata": {
        "colab": {
          "base_uri": "https://localhost:8080/"
        },
        "id": "Wpfo9E3aq-PI",
        "outputId": "1345ab13-bcde-41a1-e688-cbfe82d0c1f6"
      },
      "execution_count": null,
      "outputs": [
        {
          "output_type": "stream",
          "name": "stdout",
          "text": [
            "<re.Match object; span=(0, 6), match='cloud9'>\n",
            "<re.Match object; span=(4, 5), match=' '>\n"
          ]
        }
      ]
    },
    {
      "cell_type": "markdown",
      "source": [
        "* Use the pipe symbol (|) to match one expression or another."
      ],
      "metadata": {
        "id": "7krjV5equfvW"
      }
    },
    {
      "cell_type": "code",
      "source": [
        "print(re.search(r\"cat|dog\", \"I like cats.\"))\n",
        "# <re.Match object; span=(7, 10), match='cat'>"
      ],
      "metadata": {
        "colab": {
          "base_uri": "https://localhost:8080/"
        },
        "id": "LNkO7WZZukUH",
        "outputId": "9347b5c7-dd5b-4744-fd79-cb135f77f88b"
      },
      "execution_count": null,
      "outputs": [
        {
          "output_type": "stream",
          "name": "stdout",
          "text": [
            "<re.Match object; span=(7, 10), match='cat'>\n"
          ]
        }
      ]
    },
    {
      "cell_type": "markdown",
      "source": [
        "* Dollar sign ($) pattern match the end of the line."
      ],
      "metadata": {
        "id": "eg7gKGMPuioi"
      }
    },
    {
      "cell_type": "code",
      "source": [
        "print(re.search(r\"cat$\", \"I like cats.\"))\n",
        "# None"
      ],
      "metadata": {
        "colab": {
          "base_uri": "https://localhost:8080/"
        },
        "id": "STqJHazoun1y",
        "outputId": "451df38e-8948-4664-e2c8-10f5550353a3"
      },
      "execution_count": null,
      "outputs": [
        {
          "output_type": "stream",
          "name": "stdout",
          "text": [
            "None\n"
          ]
        }
      ]
    },
    {
      "cell_type": "markdown",
      "source": [
        "Repeated matches is another regex concept.\n",
        "* The star (*) takes as many character as possible.\n"
      ],
      "metadata": {
        "id": "i9_mHgy6xh9d"
      }
    },
    {
      "cell_type": "code",
      "source": [
        "print(re.search(r\"Py[a-z]*n\", \"Python Programming\"))\n",
        "# <re.Match object; span=(0, 6), match='Python'>"
      ],
      "metadata": {
        "colab": {
          "base_uri": "https://localhost:8080/"
        },
        "id": "7Hwpl2DNxhSK",
        "outputId": "e6d2ef33-7877-4c17-aa38-56c00481e4bb"
      },
      "execution_count": null,
      "outputs": [
        {
          "output_type": "stream",
          "name": "stdout",
          "text": [
            "<re.Match object; span=(0, 6), match='Python'>\n"
          ]
        }
      ]
    },
    {
      "cell_type": "markdown",
      "source": [
        "* The plus (+) character matches one or more occurrences of the character before it."
      ],
      "metadata": {
        "id": "TxqJPlQ7uyxy"
      }
    },
    {
      "cell_type": "code",
      "source": [
        "print(re.search(r\"o+l+\", \"woolly\"))\n",
        "# <re.Match object; span=(1, 5), match='ooll'>"
      ],
      "metadata": {
        "colab": {
          "base_uri": "https://localhost:8080/"
        },
        "id": "mD9smJvCu3Kx",
        "outputId": "dbb18b46-d083-469d-c1b8-dca74a91d937"
      },
      "execution_count": null,
      "outputs": [
        {
          "output_type": "stream",
          "name": "stdout",
          "text": [
            "<re.Match object; span=(1, 5), match='ooll'>\n"
          ]
        }
      ]
    },
    {
      "cell_type": "markdown",
      "source": [
        "* The question (?) mark symbol means either zero or one occurrence of the character before it."
      ],
      "metadata": {
        "id": "nf41x191u1jI"
      }
    },
    {
      "cell_type": "code",
      "source": [
        "print(re.search(r\"p?each\", \"I like peaches\"))\n",
        "# <re.Match object; span=(7, 12), match='peach'>"
      ],
      "metadata": {
        "colab": {
          "base_uri": "https://localhost:8080/"
        },
        "id": "y5yJ1T9xu6cH",
        "outputId": "70310b3c-550f-4f45-e231-b406f18908a3"
      },
      "execution_count": null,
      "outputs": [
        {
          "output_type": "stream",
          "name": "stdout",
          "text": [
            "<re.Match object; span=(7, 12), match='peach'>\n"
          ]
        }
      ]
    },
    {
      "cell_type": "markdown",
      "source": [
        "## Managing Files & Bash Scripting"
      ],
      "metadata": {
        "id": "pIKNu0FBqGDo"
      }
    },
    {
      "cell_type": "markdown",
      "source": [
        "### Managing Files with Python\n",
        "\n",
        "* Function `open` will start to open the file.\n",
        "* To read file, use the readline & read function.\n",
        "* To ensure that all open files are always closed, use an alternative method to write it as a block of code  using the `with` keyword.\n",
        "* Function `open` by default using mode \"r\" (read-only), can be used to write file with mode \"w\" (write-only), if file exists will be overwritten. To avoid, use mode \"a\" for append, or mode \"r+\" for read-write.\n",
        "\n"
      ],
      "metadata": {
        "id": "it34SuBKrGqc"
      }
    },
    {
      "cell_type": "code",
      "source": [
        "text = \"\"\"\n",
        "The itsy bitsy spider climbed up the waterspout.\n",
        "Down came the rain\n",
        "and washed the spider out.\n",
        "\"\"\"\n",
        "\n",
        "with open(\"spider.txt\", \"w\") as file:\n",
        "  file.write(text)"
      ],
      "metadata": {
        "id": "t2fPRjKLikka"
      },
      "execution_count": null,
      "outputs": []
    },
    {
      "cell_type": "code",
      "source": [
        "with open(\"spider.txt\", \"r\") as file:\n",
        "  print(file.read())"
      ],
      "metadata": {
        "colab": {
          "base_uri": "https://localhost:8080/"
        },
        "id": "rP-j3PQ4rufc",
        "outputId": "b05d5682-1e44-42db-fab7-89e1c422f913"
      },
      "execution_count": null,
      "outputs": [
        {
          "output_type": "stream",
          "name": "stdout",
          "text": [
            "\n",
            "The itsy bitsy spider climbed up the waterspout.\n",
            "Down came the rain\n",
            "and washed the spider out.\n",
            "\n"
          ]
        }
      ]
    },
    {
      "cell_type": "markdown",
      "source": [
        "### Bash Scripting\n",
        "\n",
        "* echo: print information (like environment variable) to standard output\n",
        "* cat file: shows the content of the file through standard output\n",
        "* ls: lists the contents of the current directory\n",
        "* cd directory: change current working directory to the specified one \n",
        "* rm: remove file or directory (with specific arguments)\n",
        "* chmod modifiers files: change permissions for the files according to the provided modifiers\n",
        "* man: show command documentation"
      ],
      "metadata": {
        "id": "0LVi_k4-suB9"
      }
    },
    {
      "cell_type": "code",
      "source": [
        "!echo \"Hello\""
      ],
      "metadata": {
        "colab": {
          "base_uri": "https://localhost:8080/"
        },
        "id": "UtpZYhEqthbe",
        "outputId": "00a23adb-5580-4c96-f706-a8f8f9e0a962"
      },
      "execution_count": null,
      "outputs": [
        {
          "output_type": "stream",
          "name": "stdout",
          "text": [
            "Hello\n"
          ]
        }
      ]
    },
    {
      "cell_type": "code",
      "source": [
        "!ls"
      ],
      "metadata": {
        "colab": {
          "base_uri": "https://localhost:8080/"
        },
        "id": "wgZGdpQftL-I",
        "outputId": "3fe748fc-3319-42ab-d184-509c717ca772"
      },
      "execution_count": null,
      "outputs": [
        {
          "output_type": "stream",
          "name": "stdout",
          "text": [
            "sample_data  spider.txt\n"
          ]
        }
      ]
    },
    {
      "cell_type": "code",
      "source": [
        "!cat \"spider.txt\""
      ],
      "metadata": {
        "colab": {
          "base_uri": "https://localhost:8080/"
        },
        "id": "yw5oyWHRsQvj",
        "outputId": "208c7d82-1a7f-4e45-db34-d07dc215cc36"
      },
      "execution_count": null,
      "outputs": [
        {
          "output_type": "stream",
          "name": "stdout",
          "text": [
            "\n",
            "The itsy bitsy spider climbed up the waterspout.\n",
            "Down came the rain\n",
            "and washed the spider out.\n"
          ]
        }
      ]
    },
    {
      "cell_type": "code",
      "source": [
        "!mkdir \"MyFirstFolder\"\n",
        "!ls"
      ],
      "metadata": {
        "colab": {
          "base_uri": "https://localhost:8080/"
        },
        "id": "Ju1Dk6y3tS7b",
        "outputId": "d67d19f4-4d24-4af8-f877-46630cfb42c2"
      },
      "execution_count": null,
      "outputs": [
        {
          "output_type": "stream",
          "name": "stdout",
          "text": [
            "MyFirstFolder  sample_data  spider.txt\n"
          ]
        }
      ]
    },
    {
      "cell_type": "code",
      "source": [
        "!for i in *; do echo $i; done"
      ],
      "metadata": {
        "id": "_4slrSr9uB1z",
        "colab": {
          "base_uri": "https://localhost:8080/"
        },
        "outputId": "246416aa-a052-43fb-b36d-f70b3cab2055"
      },
      "execution_count": null,
      "outputs": [
        {
          "output_type": "stream",
          "name": "stdout",
          "text": [
            "MyFirstFolder\n",
            "sample_data\n",
            "spider.txt\n"
          ]
        }
      ]
    },
    {
      "cell_type": "code",
      "source": [],
      "metadata": {
        "id": "X2dOei6ehVt9"
      },
      "execution_count": null,
      "outputs": []
    }
  ]
}